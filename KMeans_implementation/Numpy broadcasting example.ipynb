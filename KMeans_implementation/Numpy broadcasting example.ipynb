{
 "cells": [
  {
   "cell_type": "code",
   "execution_count": 1,
   "metadata": {},
   "outputs": [],
   "source": [
    "import numpy as np"
   ]
  },
  {
   "cell_type": "code",
   "execution_count": 38,
   "metadata": {},
   "outputs": [
    {
     "data": {
      "text/plain": [
       "array([[ 0,  1,  2],\n",
       "       [ 3,  4,  5],\n",
       "       [ 6,  7,  8],\n",
       "       [ 9, 10, 11]])"
      ]
     },
     "execution_count": 38,
     "metadata": {},
     "output_type": "execute_result"
    }
   ],
   "source": [
    "'''\n",
    "calculate the pairwise subtraction between the rows of these two arrays\n",
    "Are you able to do this without using loops?\n",
    "let us say we have 2 2-d array, I want to substract each row in a from every row in b without using loops.\n",
    "'''\n",
    "a = np.arange(12).reshape(4,3)\n",
    "a"
   ]
  },
  {
   "cell_type": "code",
   "execution_count": 41,
   "metadata": {
    "scrolled": true
   },
   "outputs": [
    {
     "data": {
      "text/plain": [
       "array([[ 6,  7,  8],\n",
       "       [ 9, 10, 11]])"
      ]
     },
     "execution_count": 41,
     "metadata": {},
     "output_type": "execute_result"
    }
   ],
   "source": [
    "b = np.arange(6, 6+6).reshape(2,3)\n",
    "b"
   ]
  },
  {
   "cell_type": "markdown",
   "metadata": {},
   "source": [
    "## for loop method"
   ]
  },
  {
   "cell_type": "code",
   "execution_count": 48,
   "metadata": {},
   "outputs": [],
   "source": [
    "def distance_cal(a, b):\n",
    "    result = np.empty((a.shape[0], b.shape[0], a.shape[1]))\n",
    "    for i, row_a in enumerate(a):\n",
    "        for j, row_b in enumerate(b):\n",
    "            result[i, j] = row_a - row_b\n",
    "    return result"
   ]
  },
  {
   "cell_type": "code",
   "execution_count": 61,
   "metadata": {
    "scrolled": false
   },
   "outputs": [
    {
     "data": {
      "text/plain": [
       "array([[[-6., -6., -6.],\n",
       "        [-9., -9., -9.]],\n",
       "\n",
       "       [[-3., -3., -3.],\n",
       "        [-6., -6., -6.]],\n",
       "\n",
       "       [[ 0.,  0.,  0.],\n",
       "        [-3., -3., -3.]],\n",
       "\n",
       "       [[ 3.,  3.,  3.],\n",
       "        [ 0.,  0.,  0.]]])"
      ]
     },
     "execution_count": 61,
     "metadata": {},
     "output_type": "execute_result"
    }
   ],
   "source": [
    "'''\n",
    "the result is in a shape of (4, 2, 3) \n",
    "4 = the number of row in a\n",
    "2 = the number of row in b\n",
    "3 = the number of col in a or b (cause they are the same)\n",
    "'''\n",
    "distance_cal(a, b)"
   ]
  },
  {
   "cell_type": "markdown",
   "metadata": {},
   "source": [
    "## End for loop method"
   ]
  },
  {
   "cell_type": "code",
   "execution_count": 59,
   "metadata": {},
   "outputs": [
    {
     "data": {
      "text/plain": [
       "array([[-6, -6, -6],\n",
       "       [-9, -9, -9]])"
      ]
     },
     "execution_count": 59,
     "metadata": {},
     "output_type": "execute_result"
    }
   ],
   "source": [
    "'''\n",
    "numpy broadcasting\n",
    "we have a (3,) array minus a (2,3) array\n",
    "what numpy will do is:\n",
    "it will apply substraction between each row in (2,3) with (3,)\n",
    "'''\n",
    "np.array([0, 1, 2]) - np.array([[6,7,8],\n",
    "                                [9,10,11]])"
   ]
  },
  {
   "cell_type": "code",
   "execution_count": 52,
   "metadata": {},
   "outputs": [
    {
     "data": {
      "text/plain": [
       "array([[[ 0,  1,  2]],\n",
       "\n",
       "       [[ 3,  4,  5]],\n",
       "\n",
       "       [[ 6,  7,  8]],\n",
       "\n",
       "       [[ 9, 10, 11]]])"
      ]
     },
     "execution_count": 52,
     "metadata": {},
     "output_type": "execute_result"
    }
   ],
   "source": [
    "'''\n",
    "now we can use the same idea in 2d array\n",
    "original shape of a is (4, 3)\n",
    "new shape of a is (4, 1, 3)\n",
    "we can think of 3d array like this\n",
    "the first axis is: how many (1,3) sheets we have (in this example we have 4 samples)\n",
    "the second axis is the row \n",
    "the third axis is the col\n",
    "'''\n",
    "a[:, np.newaxis] # you can also use reshape method "
   ]
  },
  {
   "cell_type": "code",
   "execution_count": 56,
   "metadata": {},
   "outputs": [
    {
     "data": {
      "text/plain": [
       "array([[[ 6,  7,  8],\n",
       "        [ 9, 10, 11]]])"
      ]
     },
     "execution_count": 56,
     "metadata": {},
     "output_type": "execute_result"
    }
   ],
   "source": [
    "'new shape of b is (1, 2, 3)'\n",
    "b[np.newaxis]"
   ]
  },
  {
   "cell_type": "code",
   "execution_count": 64,
   "metadata": {},
   "outputs": [
    {
     "data": {
      "text/plain": [
       "array([[[-6, -6, -6],\n",
       "        [-9, -9, -9]],\n",
       "\n",
       "       [[-3, -3, -3],\n",
       "        [-6, -6, -6]],\n",
       "\n",
       "       [[ 0,  0,  0],\n",
       "        [-3, -3, -3]],\n",
       "\n",
       "       [[ 3,  3,  3],\n",
       "        [ 0,  0,  0]]])"
      ]
     },
     "execution_count": 64,
     "metadata": {},
     "output_type": "execute_result"
    }
   ],
   "source": [
    "'''\n",
    "what we are doing here is:\n",
    "we have 4 samples in a, each one of them is (1, 3)\n",
    "we have 1 sample in b which is (2, 3)\n",
    "numpy will apply substraction on each (1, 3) in a with the (2, 3) in b\n",
    "'''\n",
    "c = a[:, np.newaxis] - b[np.newaxis]\n",
    "c"
   ]
  },
  {
   "cell_type": "code",
   "execution_count": 65,
   "metadata": {},
   "outputs": [
    {
     "data": {
      "text/plain": [
       "array([[-18, -27],\n",
       "       [ -9, -18],\n",
       "       [  0,  -9],\n",
       "       [  9,   0]])"
      ]
     },
     "execution_count": 65,
     "metadata": {},
     "output_type": "execute_result"
    }
   ],
   "source": [
    "'''\n",
    "euclidean distance\n",
    "'''\n",
    "c.sum(axis = 2)"
   ]
  },
  {
   "cell_type": "code",
   "execution_count": 67,
   "metadata": {},
   "outputs": [
    {
     "data": {
      "text/plain": [
       "array([[18., 27.],\n",
       "       [ 9., 18.],\n",
       "       [ 0.,  9.],\n",
       "       [ 9.,  0.]])"
      ]
     },
     "execution_count": 67,
     "metadata": {},
     "output_type": "execute_result"
    }
   ],
   "source": [
    "'''\n",
    "euclidean distance\n",
    "each row represents a sample from a\n",
    "each col represents a sample from b\n",
    "the final result is a 4 by 2 matrix\n",
    "'''\n",
    "np.sqrt(c.sum(axis = 2)**2)"
   ]
  },
  {
   "cell_type": "code",
   "execution_count": null,
   "metadata": {},
   "outputs": [],
   "source": []
  }
 ],
 "metadata": {
  "kernelspec": {
   "display_name": "Python 3",
   "language": "python",
   "name": "python3"
  },
  "language_info": {
   "codemirror_mode": {
    "name": "ipython",
    "version": 3
   },
   "file_extension": ".py",
   "mimetype": "text/x-python",
   "name": "python",
   "nbconvert_exporter": "python",
   "pygments_lexer": "ipython3",
   "version": "3.8.5"
  }
 },
 "nbformat": 4,
 "nbformat_minor": 4
}
