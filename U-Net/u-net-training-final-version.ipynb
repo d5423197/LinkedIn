{
 "cells": [
  {
   "cell_type": "markdown",
   "metadata": {},
   "source": [
    "# 细胞图像分割Report - 邓忠寒\n",
    "**目标**:设计细胞图像分割模型，并在测试数据上生成细胞分割结果 <br>\n",
    "\n",
    "**存在问题**:给定的training data过少。在网上搜索大量资料，企图寻找相关的细胞图像数据，最终在Kaggle上找到[2018 Data Science Bowl](https://www.kaggle.com/c/data-science-bowl-2018/data?select=stage1_train_labels.csv.zip)，是我找到唯一一个十分接近目标图像的数据库，但是也仅有600多个training 数据。"
   ]
  },
  {
   "cell_type": "markdown",
   "metadata": {},
   "source": [
    "## 1. 什么是图像分割(Image Segmentation)？\n",
    "一个图片是由pixels组成，image segmentation是将一个图片分成多个segments的过程。分割的目标是去简单化或者说是改变一个图片的representaion，让它的representation更有意义，也更容易被分析。Image segmentation被用于定位objects。更准确点说，image segementation是把每一个pixel都assign一个label的过程，具有相同label的pixel共享这某一些特性。<br>\n",
    "来源：https://en.wikipedia.org/wiki/Image_segmentation\n"
   ]
  },
  {
   "cell_type": "markdown",
   "metadata": {},
   "source": [
    "## 2. 图像分割的种类\n",
    "![](https://cdn.analyticsvidhya.com/wp-content/uploads/2019/03/Screenshot-from-2019-03-28-12-08-09.png)\n",
    "<br>\n",
    "图片来源：https://cdn.analyticsvidhya.com/wp-content/uploads/2019/03/Screenshot-from-2019-03-28-12-08-09.png"
   ]
  },
  {
   "cell_type": "markdown",
   "metadata": {},
   "source": [
    "实际上我们可以大致的将图片分割化为两大类。<br>\n",
    "\n",
    "- semantic segmentation: 如图所示，每一个pixel属于一个特定的class(要么是背景要么是人)。并且，所有来自同一个class的被标示为同一个颜色(背景为黑色，人为粉色)。\n",
    "- inseance segmentation: 如图所示，在同一个class里面的不同的object(人)也被标示成了不同的颜色。\n",
    "\n",
    "综上所示，semantic segmentation目标是classify所有的人作为一个instance，然而instance segmentation目标是把每一个人单独分开。在当前的report中，我们的目标是semantic segmentation。\n",
    "\n",
    "来源：https://www.analyticsvidhya.com/blog/2019/04/introduction-image-segmentation-techniques-python/"
   ]
  },
  {
   "cell_type": "markdown",
   "metadata": {},
   "source": [
    "## 3. 图像分割与物体检测(Object Detection)的区别\n",
    "![](https://cdn.analyticsvidhya.com/wp-content/uploads/2019/03/instance_segmentation_example.jpg) <br>\n",
    "图片来源：cs231n.stanford.edu"
   ]
  },
  {
   "cell_type": "markdown",
   "metadata": {},
   "source": [
    "在一个图片中，object detection是在对每一个class建立一个边界框。它告诉了我们物体所在的大概位置(也就是边框的坐标)，但是我们无法得知目标的具体形状。<br>\n",
    "在一个图片中，image segmentation创造一个在pixel-wise的mask给每一个物体，这个技术给予我们更加细化的理解。在医学界，如果我们能很早的检测出病人的癌症，将大大提高其存活率，然而癌症细胞的一个重要的特点，就是它的形状会给予癌症严重性的重要信息。"
   ]
  },
  {
   "cell_type": "markdown",
   "metadata": {},
   "source": [
    "## 4. 数据的预处理"
   ]
  },
  {
   "cell_type": "code",
   "execution_count": 1,
   "metadata": {
    "execution": {
     "iopub.execute_input": "2021-08-15T00:51:47.021354Z",
     "iopub.status.busy": "2021-08-15T00:51:47.020997Z",
     "iopub.status.idle": "2021-08-15T00:51:52.662709Z",
     "shell.execute_reply": "2021-08-15T00:51:52.661939Z",
     "shell.execute_reply.started": "2021-08-15T00:51:47.021309Z"
    }
   },
   "outputs": [],
   "source": [
    "import tensorflow as tf\n",
    "import os\n",
    "import random\n",
    "import numpy as np\n",
    "from tqdm import tqdm\n",
    "from skimage.io import imread,imshow\n",
    "from skimage.transform import resize\n",
    "import matplotlib.pyplot as plt\n",
    "from zipfile import ZipFile \n",
    "from keras import backend as K\n",
    "from keras.callbacks import EarlyStopping, ModelCheckpoint\n",
    "import keras"
   ]
  },
  {
   "cell_type": "code",
   "execution_count": 2,
   "metadata": {
    "execution": {
     "iopub.execute_input": "2021-08-15T00:51:52.665002Z",
     "iopub.status.busy": "2021-08-15T00:51:52.664620Z",
     "iopub.status.idle": "2021-08-15T00:51:52.671215Z",
     "shell.execute_reply": "2021-08-15T00:51:52.670486Z",
     "shell.execute_reply.started": "2021-08-15T00:51:52.664959Z"
    }
   },
   "outputs": [],
   "source": [
    "# set up hyperparameter\n",
    "img_height = 256\n",
    "img_width = 256\n",
    "img_channel = 3"
   ]
  },
  {
   "cell_type": "code",
   "execution_count": 3,
   "metadata": {
    "execution": {
     "iopub.execute_input": "2021-08-15T00:51:52.673276Z",
     "iopub.status.busy": "2021-08-15T00:51:52.672676Z",
     "iopub.status.idle": "2021-08-15T00:51:52.684336Z",
     "shell.execute_reply": "2021-08-15T00:51:52.683578Z",
     "shell.execute_reply.started": "2021-08-15T00:51:52.673236Z"
    }
   },
   "outputs": [],
   "source": [
    "def unzip(keyword = None):\n",
    "    \"\"\"\n",
    "    input: train / test\n",
    "    objective: unzip file\n",
    "    \"\"\"\n",
    "    file_name = f\"../input/data-science-bowl-2018/stage1_{keyword}.zip\"\n",
    "    with ZipFile(file_name, 'r') as zip: \n",
    "        print(f'{keyword} file unzipping')\n",
    "        zip.extractall(f\"stage1_{keyword}\") \n",
    "        print('Done!')"
   ]
  },
  {
   "cell_type": "code",
   "execution_count": 4,
   "metadata": {
    "execution": {
     "iopub.execute_input": "2021-08-15T00:51:52.686322Z",
     "iopub.status.busy": "2021-08-15T00:51:52.685934Z",
     "iopub.status.idle": "2021-08-15T00:51:58.800357Z",
     "shell.execute_reply": "2021-08-15T00:51:58.799424Z",
     "shell.execute_reply.started": "2021-08-15T00:51:52.686276Z"
    }
   },
   "outputs": [
    {
     "name": "stdout",
     "output_type": "stream",
     "text": [
      "train file unzipping\n",
      "Done!\n",
      "test file unzipping\n",
      "Done!\n"
     ]
    }
   ],
   "source": [
    "unzip('train') # unzip train\n",
    "unzip('test') # unzip test"
   ]
  },
  {
   "cell_type": "code",
   "execution_count": 5,
   "metadata": {
    "execution": {
     "iopub.execute_input": "2021-08-15T00:51:58.803703Z",
     "iopub.status.busy": "2021-08-15T00:51:58.803405Z",
     "iopub.status.idle": "2021-08-15T00:51:58.808014Z",
     "shell.execute_reply": "2021-08-15T00:51:58.806669Z",
     "shell.execute_reply.started": "2021-08-15T00:51:58.803670Z"
    }
   },
   "outputs": [],
   "source": [
    "# set up train and test path\n",
    "train_path = \"stage1_train/\"\n",
    "test_path = \"stage1_test/\""
   ]
  },
  {
   "cell_type": "code",
   "execution_count": 6,
   "metadata": {
    "execution": {
     "iopub.execute_input": "2021-08-15T00:51:58.810654Z",
     "iopub.status.busy": "2021-08-15T00:51:58.810242Z",
     "iopub.status.idle": "2021-08-15T00:51:58.823053Z",
     "shell.execute_reply": "2021-08-15T00:51:58.822186Z",
     "shell.execute_reply.started": "2021-08-15T00:51:58.810616Z"
    }
   },
   "outputs": [
    {
     "name": "stdout",
     "output_type": "stream",
     "text": [
      "There are 670 training samples.\n"
     ]
    }
   ],
   "source": [
    "# save all the training ids\n",
    "train_ids = os.listdir(train_path)\n",
    "print(f'There are {len(train_ids)} training samples.')"
   ]
  },
  {
   "cell_type": "code",
   "execution_count": 7,
   "metadata": {
    "execution": {
     "iopub.execute_input": "2021-08-15T00:51:58.825444Z",
     "iopub.status.busy": "2021-08-15T00:51:58.825049Z",
     "iopub.status.idle": "2021-08-15T00:51:58.839858Z",
     "shell.execute_reply": "2021-08-15T00:51:58.838818Z",
     "shell.execute_reply.started": "2021-08-15T00:51:58.825408Z"
    }
   },
   "outputs": [],
   "source": [
    "def preprocess(id_, path):\n",
    "    \"\"\"\n",
    "    input: list of ids, path of directory\n",
    "    output: return X_train and y_train\n",
    "    \"\"\"\n",
    "    \n",
    "    # initialize two empty array to store\n",
    "    # size is (# of training instance, img_size, img_size, img_channel)\n",
    "    X_train = np.zeros((len(id_), img_height, img_width, img_channel), dtype = np.uint8)\n",
    "    Y_train = np.zeros((len(id_), img_height, img_width, 1), dtype = np.bool)\n",
    "    \n",
    "    # iterate through all the training img, save each training instance into X_train\n",
    "    # using tqdm is good for us to visualize the process\n",
    "    for n, id_ in tqdm(enumerate(id_), total = len(id_)):   \n",
    "        cur_path = path + id_\n",
    "        # read in img as array\n",
    "        img = imread(cur_path + '/images/' + id_ + '.png')[:,:,:img_channel]  \n",
    "        # resize data to increase the speed of training\n",
    "        img = resize(img, (img_height, img_width), mode='constant', preserve_range=True)\n",
    "        # save current img into X_train\n",
    "        X_train[n] = img  \n",
    "        # for each img, we have several masks\n",
    "        # we need to iterate through each one \n",
    "        mask = np.zeros((img_height, img_width, 1), dtype = np.bool)\n",
    "        for mask_file in os.listdir(cur_path + '/masks/'):\n",
    "            # read in current mask\n",
    "            cur_mask = imread(cur_path + '/masks/' + mask_file)\n",
    "            # resize it and adjust the dimension to 128x128x1\n",
    "            cur_mask = np.expand_dims(resize(cur_mask, (img_height, img_width), mode = 'constant', preserve_range = True), axis = -1)\n",
    "            mask = np.maximum(mask, cur_mask)\n",
    "        Y_train[n] = mask\n",
    "    return X_train, Y_train"
   ]
  },
  {
   "cell_type": "code",
   "execution_count": 8,
   "metadata": {
    "execution": {
     "iopub.execute_input": "2021-08-15T00:51:58.841803Z",
     "iopub.status.busy": "2021-08-15T00:51:58.841551Z",
     "iopub.status.idle": "2021-08-15T00:55:22.394795Z",
     "shell.execute_reply": "2021-08-15T00:55:22.392976Z",
     "shell.execute_reply.started": "2021-08-15T00:51:58.841780Z"
    }
   },
   "outputs": [
    {
     "name": "stderr",
     "output_type": "stream",
     "text": [
      "100%|██████████| 670/670 [03:23<00:00,  3.29it/s]\n"
     ]
    }
   ],
   "source": [
    "X_train, y_train = preprocess(train_ids, train_path)"
   ]
  },
  {
   "cell_type": "markdown",
   "metadata": {},
   "source": [
    "模型启发: 因为我们在做的事细胞分割，所以在经过一定的research之后，发现U-Net模型框架比较适合。<br>\n",
    "模型介绍: U-Net是一款为生物医学图像分割创造出的模型，最开始被Freiburg大学的电脑科学院所开发。<br>\n",
    "模型框架: <br>\n",
    "\n",
    "![](https://lmb.informatik.uni-freiburg.de/people/ronneber/u-net/u-net-architecture.png)\n",
    "\n",
    "我们可以看到这个框架一共有9个部分，我们可以大致给他分成encoder和decoder两部分。<br>\n",
    "\n",
    "- 前面的5个部分通常被视为encoder部分均由两个3x3的conv layer接上一个2x2的max pooling。<br>\n",
    "- 后面的4个部分通常被视为decoder阶段，由一个conv Transposelayer + concat + 两个3x3conv layer。<br>\n",
    "- 在decoder阶段，U-Net框架会拼接之前decoder阶段的部分，对其进行卷积。<br>\n",
    "\n",
    "U-Net优点是在较少的training samples仍然能有比较理想的结果，这打破了传统深度学习框架通常需要数以千计或者万计training samples的弊端。这也正符合我们的需要因为我们仅有670training samples。<br>\n",
    "\n",
    "Loss Function and Metric <br>\n",
    "- 在做binary classification的时候，binary cross-entropy是一个非常常用的loss function，它度量错误classification的概率。 <br>\n",
    "- 另外一个在image segmentation中比较常用的叫做dice coefficient，它的就算是2乘以两个图片overlap的面积再除以所有的面积。这个metric的区间在0到1之间。1代表完美的overlap。<br>\n",
    "\n",
    "我们会采用binary cross-entropy作为loss function，采用accuracy和dice coefficient作为metric。"
   ]
  },
  {
   "cell_type": "markdown",
   "metadata": {},
   "source": [
    "## 5. 模型建造"
   ]
  },
  {
   "cell_type": "code",
   "execution_count": 53,
   "metadata": {
    "execution": {
     "iopub.execute_input": "2021-08-15T01:08:27.170169Z",
     "iopub.status.busy": "2021-08-15T01:08:27.169799Z",
     "iopub.status.idle": "2021-08-15T01:08:27.178257Z",
     "shell.execute_reply": "2021-08-15T01:08:27.177385Z",
     "shell.execute_reply.started": "2021-08-15T01:08:27.170138Z"
    }
   },
   "outputs": [],
   "source": [
    "smooth = 1.\n",
    "# define dice coefficient metric\n",
    "def dice_coef(y_true, y_pred):\n",
    "    # flatten\n",
    "    y_true_f = K.flatten(y_true)\n",
    "    y_pred_f = K.flatten(y_pred)\n",
    "    # find intersection\n",
    "    intersection = K.sum(y_true_f * y_pred_f)\n",
    "    # 2 * intersection / overall\n",
    "    return (2. * intersection + smooth) / (K.sum(y_true_f) + K.sum(y_pred_f) + smooth)"
   ]
  },
  {
   "cell_type": "code",
   "execution_count": 54,
   "metadata": {
    "execution": {
     "iopub.execute_input": "2021-08-15T01:08:27.447867Z",
     "iopub.status.busy": "2021-08-15T01:08:27.447541Z",
     "iopub.status.idle": "2021-08-15T01:08:27.695884Z",
     "shell.execute_reply": "2021-08-15T01:08:27.695138Z",
     "shell.execute_reply.started": "2021-08-15T01:08:27.447820Z"
    }
   },
   "outputs": [],
   "source": [
    "inputs = tf.keras.layers.Input((img_height, img_width, img_channel))\n",
    "# Normalize the data\n",
    "s = tf.keras.layers.Lambda(lambda x: x / 255)(inputs)\n",
    "\n",
    "# Encode\n",
    "c1 = tf.keras.layers.Conv2D(16, (3, 3), activation = 'relu', padding = 'same')(s)\n",
    "c1 = tf.keras.layers.Conv2D(16, (3, 3), activation = 'relu', padding = 'same')(c1)\n",
    "p1 = tf.keras.layers.MaxPooling2D((2, 2))(c1)\n",
    "\n",
    "c2 = tf.keras.layers.Conv2D(32, (3, 3), activation = 'relu', padding = 'same')(p1)\n",
    "c2 = tf.keras.layers.Conv2D(32, (3, 3), activation = 'relu', padding = 'same')(c2)\n",
    "p2 = tf.keras.layers.MaxPooling2D((2, 2))(c2)\n",
    " \n",
    "c3 = tf.keras.layers.Conv2D(64, (3, 3), activation = 'relu', padding = 'same')(p2)\n",
    "c3 = tf.keras.layers.Conv2D(64, (3, 3), activation = 'relu', padding = 'same')(c3)\n",
    "p3 = tf.keras.layers.MaxPooling2D((2, 2))(c3)\n",
    " \n",
    "c4 = tf.keras.layers.Conv2D(128, (3, 3), activation = 'relu', padding = 'same')(p3)\n",
    "c4 = tf.keras.layers.Conv2D(128, (3, 3), activation = 'relu', padding = 'same')(c4)\n",
    "p4 = tf.keras.layers.MaxPooling2D((2, 2))(c4)\n",
    " \n",
    "c5 = tf.keras.layers.Conv2D(256, (3, 3), activation = 'relu', padding = 'same')(p4)\n",
    "c5 = tf.keras.layers.Conv2D(256, (3, 3), activation = 'relu', padding = 'same')(c5)\n",
    "\n",
    "# Decode \n",
    "u6 = tf.keras.layers.Conv2DTranspose(128, (2, 2), strides = (2, 2), padding = 'same')(c5)\n",
    "u6 = tf.keras.layers.concatenate([u6, c4])\n",
    "c6 = tf.keras.layers.Conv2D(128, (3, 3), activation = 'relu', padding = 'same')(u6)\n",
    "c6 = tf.keras.layers.Conv2D(128, (3, 3), activation = 'relu', padding = 'same')(c6)\n",
    " \n",
    "u7 = tf.keras.layers.Conv2DTranspose(64, (2, 2), strides = (2, 2), padding = 'same')(c6)\n",
    "u7 = tf.keras.layers.concatenate([u7, c3])\n",
    "c7 = tf.keras.layers.Conv2D(64, (3, 3), activation = 'relu', padding = 'same')(u7)\n",
    "c7 = tf.keras.layers.Conv2D(64, (3, 3), activation = 'relu', padding = 'same')(c7)\n",
    " \n",
    "u8 = tf.keras.layers.Conv2DTranspose(32, (2, 2), strides=(2, 2), padding = 'same')(c7)\n",
    "u8 = tf.keras.layers.concatenate([u8, c2])\n",
    "c8 = tf.keras.layers.Conv2D(32, (3, 3), activation = 'relu', padding = 'same')(u8)\n",
    "c8 = tf.keras.layers.Conv2D(32, (3, 3), activation = 'relu', padding = 'same')(c8)\n",
    " \n",
    "u9 = tf.keras.layers.Conv2DTranspose(16, (2, 2), strides = (2, 2), padding = 'same')(c8)\n",
    "u9 = tf.keras.layers.concatenate([u9, c1], axis=3)\n",
    "c9 = tf.keras.layers.Conv2D(16, (3, 3), activation = 'relu', padding = 'same')(u9)\n",
    "c9 = tf.keras.layers.Conv2D(16, (3, 3), activation = 'relu', padding = 'same')(c9)\n",
    "\n",
    "# outpput\n",
    "outputs = tf.keras.layers.Conv2D(1, (1, 1), activation='sigmoid')(c9)\n",
    "model = tf.keras.Model(inputs=[inputs], outputs=[outputs])\n",
    "\n",
    "# compile\n",
    "model.compile(optimizer = 'adam', loss = 'binary_crossentropy', metrics = ['accuracy', dice_coef]) "
   ]
  },
  {
   "cell_type": "code",
   "execution_count": 55,
   "metadata": {
    "execution": {
     "iopub.execute_input": "2021-08-15T01:08:27.880435Z",
     "iopub.status.busy": "2021-08-15T01:08:27.880146Z",
     "iopub.status.idle": "2021-08-15T01:08:27.885895Z",
     "shell.execute_reply": "2021-08-15T01:08:27.884994Z",
     "shell.execute_reply.started": "2021-08-15T01:08:27.880407Z"
    }
   },
   "outputs": [],
   "source": [
    "callbacks = [EarlyStopping(patience = 5, monitor = 'val_loss'), ModelCheckpoint('U-Net-Best.h5', verbose=1, save_best_only = True)]"
   ]
  },
  {
   "cell_type": "markdown",
   "metadata": {},
   "source": [
    "## 6. 模型训练"
   ]
  },
  {
   "cell_type": "code",
   "execution_count": 56,
   "metadata": {
    "execution": {
     "iopub.execute_input": "2021-08-15T01:08:31.984762Z",
     "iopub.status.busy": "2021-08-15T01:08:31.984443Z",
     "iopub.status.idle": "2021-08-15T01:09:57.311207Z",
     "shell.execute_reply": "2021-08-15T01:09:57.310317Z",
     "shell.execute_reply.started": "2021-08-15T01:08:31.984731Z"
    }
   },
   "outputs": [
    {
     "name": "stdout",
     "output_type": "stream",
     "text": [
      "Epoch 1/30\n",
      "38/38 [==============================] - ETA: 0s - loss: 0.5551 - accuracy: 0.8429 - dice_coef: 0.2137\n",
      "Epoch 00001: val_loss improved from inf to 0.36499, saving model to U-Net-Best.h5\n",
      "38/38 [==============================] - 3s 89ms/step - loss: 0.5551 - accuracy: 0.8429 - dice_coef: 0.2137 - val_loss: 0.3650 - val_accuracy: 0.8572 - val_dice_coef: 0.2673\n",
      "Epoch 2/30\n",
      "38/38 [==============================] - ETA: 0s - loss: 0.2893 - accuracy: 0.8623 - dice_coef: 0.3789\n",
      "Epoch 00002: val_loss improved from 0.36499 to 0.25355, saving model to U-Net-Best.h5\n",
      "38/38 [==============================] - 3s 74ms/step - loss: 0.2893 - accuracy: 0.8623 - dice_coef: 0.3789 - val_loss: 0.2536 - val_accuracy: 0.8730 - val_dice_coef: 0.4373\n",
      "Epoch 3/30\n",
      "37/38 [============================>.] - ETA: 0s - loss: 0.1974 - accuracy: 0.9200 - dice_coef: 0.6130\n",
      "Epoch 00003: val_loss improved from 0.25355 to 0.16986, saving model to U-Net-Best.h5\n",
      "38/38 [==============================] - 3s 72ms/step - loss: 0.1961 - accuracy: 0.9207 - dice_coef: 0.6156 - val_loss: 0.1699 - val_accuracy: 0.9349 - val_dice_coef: 0.6866\n",
      "Epoch 4/30\n",
      "38/38 [==============================] - ETA: 0s - loss: 0.1552 - accuracy: 0.9388 - dice_coef: 0.7104\n",
      "Epoch 00004: val_loss improved from 0.16986 to 0.12389, saving model to U-Net-Best.h5\n",
      "38/38 [==============================] - 3s 73ms/step - loss: 0.1552 - accuracy: 0.9388 - dice_coef: 0.7104 - val_loss: 0.1239 - val_accuracy: 0.9518 - val_dice_coef: 0.7824\n",
      "Epoch 5/30\n",
      "38/38 [==============================] - ETA: 0s - loss: 0.1226 - accuracy: 0.9534 - dice_coef: 0.7764\n",
      "Epoch 00005: val_loss improved from 0.12389 to 0.09061, saving model to U-Net-Best.h5\n",
      "38/38 [==============================] - 3s 73ms/step - loss: 0.1226 - accuracy: 0.9534 - dice_coef: 0.7764 - val_loss: 0.0906 - val_accuracy: 0.9616 - val_dice_coef: 0.8046\n",
      "Epoch 6/30\n",
      "38/38 [==============================] - ETA: 0s - loss: 0.1128 - accuracy: 0.9570 - dice_coef: 0.7997\n",
      "Epoch 00006: val_loss improved from 0.09061 to 0.08280, saving model to U-Net-Best.h5\n",
      "38/38 [==============================] - 3s 73ms/step - loss: 0.1128 - accuracy: 0.9570 - dice_coef: 0.7997 - val_loss: 0.0828 - val_accuracy: 0.9683 - val_dice_coef: 0.8146\n",
      "Epoch 7/30\n",
      "37/38 [============================>.] - ETA: 0s - loss: 0.1007 - accuracy: 0.9617 - dice_coef: 0.8160\n",
      "Epoch 00007: val_loss improved from 0.08280 to 0.07177, saving model to U-Net-Best.h5\n",
      "38/38 [==============================] - 3s 73ms/step - loss: 0.0997 - accuracy: 0.9621 - dice_coef: 0.8175 - val_loss: 0.0718 - val_accuracy: 0.9724 - val_dice_coef: 0.8507\n",
      "Epoch 8/30\n",
      "38/38 [==============================] - ETA: 0s - loss: 0.0983 - accuracy: 0.9624 - dice_coef: 0.8252\n",
      "Epoch 00008: val_loss did not improve from 0.07177\n",
      "38/38 [==============================] - 3s 69ms/step - loss: 0.0983 - accuracy: 0.9624 - dice_coef: 0.8252 - val_loss: 0.0769 - val_accuracy: 0.9711 - val_dice_coef: 0.8199\n",
      "Epoch 9/30\n",
      "37/38 [============================>.] - ETA: 0s - loss: 0.0939 - accuracy: 0.9648 - dice_coef: 0.8264\n",
      "Epoch 00009: val_loss improved from 0.07177 to 0.06737, saving model to U-Net-Best.h5\n",
      "38/38 [==============================] - 3s 73ms/step - loss: 0.0936 - accuracy: 0.9649 - dice_coef: 0.8259 - val_loss: 0.0674 - val_accuracy: 0.9744 - val_dice_coef: 0.8573\n",
      "Epoch 10/30\n",
      "38/38 [==============================] - ETA: 0s - loss: 0.0884 - accuracy: 0.9664 - dice_coef: 0.8428\n",
      "Epoch 00010: val_loss did not improve from 0.06737\n",
      "38/38 [==============================] - 3s 68ms/step - loss: 0.0884 - accuracy: 0.9664 - dice_coef: 0.8428 - val_loss: 0.0688 - val_accuracy: 0.9737 - val_dice_coef: 0.8502\n",
      "Epoch 11/30\n",
      "38/38 [==============================] - ETA: 0s - loss: 0.0863 - accuracy: 0.9669 - dice_coef: 0.8421\n",
      "Epoch 00011: val_loss improved from 0.06737 to 0.06411, saving model to U-Net-Best.h5\n",
      "38/38 [==============================] - 3s 73ms/step - loss: 0.0863 - accuracy: 0.9669 - dice_coef: 0.8421 - val_loss: 0.0641 - val_accuracy: 0.9753 - val_dice_coef: 0.8611\n",
      "Epoch 12/30\n",
      "38/38 [==============================] - ETA: 0s - loss: 0.0835 - accuracy: 0.9682 - dice_coef: 0.8485\n",
      "Epoch 00012: val_loss improved from 0.06411 to 0.06072, saving model to U-Net-Best.h5\n",
      "38/38 [==============================] - 3s 75ms/step - loss: 0.0835 - accuracy: 0.9682 - dice_coef: 0.8485 - val_loss: 0.0607 - val_accuracy: 0.9764 - val_dice_coef: 0.8653\n",
      "Epoch 13/30\n",
      "38/38 [==============================] - ETA: 0s - loss: 0.0898 - accuracy: 0.9657 - dice_coef: 0.8405\n",
      "Epoch 00013: val_loss did not improve from 0.06072\n",
      "38/38 [==============================] - 3s 70ms/step - loss: 0.0898 - accuracy: 0.9657 - dice_coef: 0.8405 - val_loss: 0.0796 - val_accuracy: 0.9711 - val_dice_coef: 0.8301\n",
      "Epoch 14/30\n",
      "38/38 [==============================] - ETA: 0s - loss: 0.0853 - accuracy: 0.9671 - dice_coef: 0.8452\n",
      "Epoch 00014: val_loss did not improve from 0.06072\n",
      "38/38 [==============================] - 3s 69ms/step - loss: 0.0853 - accuracy: 0.9671 - dice_coef: 0.8452 - val_loss: 0.0635 - val_accuracy: 0.9752 - val_dice_coef: 0.8691\n",
      "Epoch 15/30\n",
      "37/38 [============================>.] - ETA: 0s - loss: 0.0847 - accuracy: 0.9674 - dice_coef: 0.8490\n",
      "Epoch 00015: val_loss did not improve from 0.06072\n",
      "38/38 [==============================] - 3s 68ms/step - loss: 0.0846 - accuracy: 0.9674 - dice_coef: 0.8488 - val_loss: 0.0689 - val_accuracy: 0.9727 - val_dice_coef: 0.8561\n",
      "Epoch 16/30\n",
      "38/38 [==============================] - ETA: 0s - loss: 0.0823 - accuracy: 0.9679 - dice_coef: 0.8505\n",
      "Epoch 00016: val_loss improved from 0.06072 to 0.05739, saving model to U-Net-Best.h5\n",
      "38/38 [==============================] - 3s 75ms/step - loss: 0.0823 - accuracy: 0.9679 - dice_coef: 0.8505 - val_loss: 0.0574 - val_accuracy: 0.9770 - val_dice_coef: 0.8778\n",
      "Epoch 17/30\n",
      "37/38 [============================>.] - ETA: 0s - loss: 0.0771 - accuracy: 0.9697 - dice_coef: 0.8634\n",
      "Epoch 00017: val_loss improved from 0.05739 to 0.05660, saving model to U-Net-Best.h5\n",
      "38/38 [==============================] - 3s 73ms/step - loss: 0.0767 - accuracy: 0.9698 - dice_coef: 0.8620 - val_loss: 0.0566 - val_accuracy: 0.9775 - val_dice_coef: 0.8711\n",
      "Epoch 18/30\n",
      "37/38 [============================>.] - ETA: 0s - loss: 0.0742 - accuracy: 0.9708 - dice_coef: 0.8633\n",
      "Epoch 00018: val_loss improved from 0.05660 to 0.05401, saving model to U-Net-Best.h5\n",
      "38/38 [==============================] - 3s 74ms/step - loss: 0.0742 - accuracy: 0.9708 - dice_coef: 0.8634 - val_loss: 0.0540 - val_accuracy: 0.9782 - val_dice_coef: 0.8816\n",
      "Epoch 19/30\n",
      "37/38 [============================>.] - ETA: 0s - loss: 0.0755 - accuracy: 0.9702 - dice_coef: 0.8628\n",
      "Epoch 00019: val_loss did not improve from 0.05401\n",
      "38/38 [==============================] - 3s 69ms/step - loss: 0.0756 - accuracy: 0.9701 - dice_coef: 0.8624 - val_loss: 0.0602 - val_accuracy: 0.9765 - val_dice_coef: 0.8647\n",
      "Epoch 20/30\n",
      "37/38 [============================>.] - ETA: 0s - loss: 0.0749 - accuracy: 0.9704 - dice_coef: 0.8640\n",
      "Epoch 00020: val_loss did not improve from 0.05401\n",
      "38/38 [==============================] - 3s 69ms/step - loss: 0.0740 - accuracy: 0.9708 - dice_coef: 0.8647 - val_loss: 0.0547 - val_accuracy: 0.9783 - val_dice_coef: 0.8759\n",
      "Epoch 21/30\n",
      "38/38 [==============================] - ETA: 0s - loss: 0.0722 - accuracy: 0.9715 - dice_coef: 0.8669\n",
      "Epoch 00021: val_loss improved from 0.05401 to 0.05278, saving model to U-Net-Best.h5\n",
      "38/38 [==============================] - 3s 73ms/step - loss: 0.0722 - accuracy: 0.9715 - dice_coef: 0.8669 - val_loss: 0.0528 - val_accuracy: 0.9790 - val_dice_coef: 0.8832\n",
      "Epoch 22/30\n",
      "38/38 [==============================] - ETA: 0s - loss: 0.0712 - accuracy: 0.9716 - dice_coef: 0.8707\n",
      "Epoch 00022: val_loss did not improve from 0.05278\n",
      "38/38 [==============================] - 3s 69ms/step - loss: 0.0712 - accuracy: 0.9716 - dice_coef: 0.8707 - val_loss: 0.0552 - val_accuracy: 0.9778 - val_dice_coef: 0.8753\n",
      "Epoch 23/30\n",
      "37/38 [============================>.] - ETA: 0s - loss: 0.0707 - accuracy: 0.9717 - dice_coef: 0.8679\n",
      "Epoch 00023: val_loss improved from 0.05278 to 0.05194, saving model to U-Net-Best.h5\n",
      "38/38 [==============================] - 3s 73ms/step - loss: 0.0705 - accuracy: 0.9718 - dice_coef: 0.8689 - val_loss: 0.0519 - val_accuracy: 0.9791 - val_dice_coef: 0.8887\n",
      "Epoch 24/30\n",
      "38/38 [==============================] - ETA: 0s - loss: 0.0719 - accuracy: 0.9714 - dice_coef: 0.8675\n",
      "Epoch 00024: val_loss did not improve from 0.05194\n",
      "38/38 [==============================] - 3s 69ms/step - loss: 0.0719 - accuracy: 0.9714 - dice_coef: 0.8675 - val_loss: 0.0539 - val_accuracy: 0.9790 - val_dice_coef: 0.8763\n",
      "Epoch 25/30\n",
      "37/38 [============================>.] - ETA: 0s - loss: 0.0699 - accuracy: 0.9723 - dice_coef: 0.8717\n",
      "Epoch 00025: val_loss improved from 0.05194 to 0.05114, saving model to U-Net-Best.h5\n",
      "38/38 [==============================] - 3s 74ms/step - loss: 0.0701 - accuracy: 0.9722 - dice_coef: 0.8717 - val_loss: 0.0511 - val_accuracy: 0.9796 - val_dice_coef: 0.8837\n",
      "Epoch 26/30\n",
      "38/38 [==============================] - ETA: 0s - loss: 0.0677 - accuracy: 0.9729 - dice_coef: 0.8751\n",
      "Epoch 00026: val_loss did not improve from 0.05114\n",
      "38/38 [==============================] - 3s 69ms/step - loss: 0.0677 - accuracy: 0.9729 - dice_coef: 0.8751 - val_loss: 0.0535 - val_accuracy: 0.9790 - val_dice_coef: 0.8832\n",
      "Epoch 27/30\n",
      "38/38 [==============================] - ETA: 0s - loss: 0.0677 - accuracy: 0.9727 - dice_coef: 0.8747\n",
      "Epoch 00027: val_loss did not improve from 0.05114\n",
      "38/38 [==============================] - 3s 69ms/step - loss: 0.0677 - accuracy: 0.9727 - dice_coef: 0.8747 - val_loss: 0.0523 - val_accuracy: 0.9792 - val_dice_coef: 0.8822\n",
      "Epoch 28/30\n",
      "37/38 [============================>.] - ETA: 0s - loss: 0.0667 - accuracy: 0.9729 - dice_coef: 0.8750\n",
      "Epoch 00028: val_loss did not improve from 0.05114\n",
      "38/38 [==============================] - 3s 69ms/step - loss: 0.0678 - accuracy: 0.9727 - dice_coef: 0.8745 - val_loss: 0.0565 - val_accuracy: 0.9772 - val_dice_coef: 0.8808\n",
      "Epoch 29/30\n",
      "37/38 [============================>.] - ETA: 0s - loss: 0.0700 - accuracy: 0.9720 - dice_coef: 0.8709\n",
      "Epoch 00029: val_loss did not improve from 0.05114\n",
      "38/38 [==============================] - 3s 68ms/step - loss: 0.0697 - accuracy: 0.9721 - dice_coef: 0.8711 - val_loss: 0.0560 - val_accuracy: 0.9776 - val_dice_coef: 0.8807\n",
      "Epoch 30/30\n",
      "37/38 [============================>.] - ETA: 0s - loss: 0.0673 - accuracy: 0.9728 - dice_coef: 0.8744\n",
      "Epoch 00030: val_loss did not improve from 0.05114\n",
      "38/38 [==============================] - 3s 68ms/step - loss: 0.0675 - accuracy: 0.9727 - dice_coef: 0.8738 - val_loss: 0.0517 - val_accuracy: 0.9791 - val_dice_coef: 0.8887\n"
     ]
    }
   ],
   "source": [
    "results = model.fit(X_train, y_train, validation_split = 0.1, batch_size = 16, epochs = 30, callbacks = callbacks) "
   ]
  },
  {
   "cell_type": "code",
   "execution_count": 57,
   "metadata": {
    "execution": {
     "iopub.execute_input": "2021-08-15T01:09:59.322138Z",
     "iopub.status.busy": "2021-08-15T01:09:59.321782Z",
     "iopub.status.idle": "2021-08-15T01:09:59.329243Z",
     "shell.execute_reply": "2021-08-15T01:09:59.328137Z",
     "shell.execute_reply.started": "2021-08-15T01:09:59.322105Z"
    }
   },
   "outputs": [],
   "source": [
    "def generate_plot(history, keyword = ''):\n",
    "    plt.plot(history.history[keyword])\n",
    "    plt.plot(history.history[f'val_{keyword}'])\n",
    "    plt.title(f'model {keyword}')\n",
    "    plt.ylabel(f'{keyword}')\n",
    "    plt.xlabel('epoch')\n",
    "    plt.legend(['train', 'val'], loc = 'upper left')\n",
    "    plt.show()"
   ]
  },
  {
   "cell_type": "code",
   "execution_count": 58,
   "metadata": {
    "execution": {
     "iopub.execute_input": "2021-08-15T01:09:59.627713Z",
     "iopub.status.busy": "2021-08-15T01:09:59.627419Z",
     "iopub.status.idle": "2021-08-15T01:09:59.775132Z",
     "shell.execute_reply": "2021-08-15T01:09:59.773647Z",
     "shell.execute_reply.started": "2021-08-15T01:09:59.627685Z"
    }
   },
   "outputs": [
    {
     "data": {
      "image/png": "[encoded data removed]",
      "text/plain": [
       "<Figure size 432x288 with 1 Axes>"
      ]
     },
     "metadata": {
      "needs_background": "light"
     },
     "output_type": "display_data"
    }
   ],
   "source": [
    "generate_plot(results, 'accuracy')"
   ]
  },
  {
   "cell_type": "code",
   "execution_count": 59,
   "metadata": {
    "execution": {
     "iopub.execute_input": "2021-08-15T01:09:59.997393Z",
     "iopub.status.busy": "2021-08-15T01:09:59.997126Z",
     "iopub.status.idle": "2021-08-15T01:10:00.141000Z",
     "shell.execute_reply": "2021-08-15T01:10:00.139897Z",
     "shell.execute_reply.started": "2021-08-15T01:09:59.997367Z"
    }
   },
   "outputs": [
    {
     "data": {
      "image/png": "[encoded data removed]",
      "text/plain": [
       "<Figure size 432x288 with 1 Axes>"
      ]
     },
     "metadata": {
      "needs_background": "light"
     },
     "output_type": "display_data"
    }
   ],
   "source": [
    "generate_plot(results, 'loss')"
   ]
  },
  {
   "cell_type": "code",
   "execution_count": 60,
   "metadata": {
    "execution": {
     "iopub.execute_input": "2021-08-15T01:10:01.922686Z",
     "iopub.status.busy": "2021-08-15T01:10:01.922376Z",
     "iopub.status.idle": "2021-08-15T01:10:02.073212Z",
     "shell.execute_reply": "2021-08-15T01:10:02.072217Z",
     "shell.execute_reply.started": "2021-08-15T01:10:01.922656Z"
    }
   },
   "outputs": [
    {
     "data": {
      "image/png": "[encoded data removed]",
      "text/plain": [
       "<Figure size 432x288 with 1 Axes>"
      ]
     },
     "metadata": {
      "needs_background": "light"
     },
     "output_type": "display_data"
    }
   ],
   "source": [
    "generate_plot(results, 'dice_coef')"
   ]
  },
  {
   "cell_type": "markdown",
   "metadata": {},
   "source": [
    "## 7. 模型结果分析\n",
    "我们可以看到经过几个epoch我们就达到了一个十分可观的回报，我们最好的model的val_loss在0.5左右，val accuracy在0.97左右，val dice coefficient在0.88左右。这个结果还是比较理想的，因为我们的test sample的取样不同于train sample，所以我们也不想把模型过度训练，这样不利于模型generalize。所以我们在callback中设定了earlystopping以防止overfitting。我们将patience设定为5，已经给了model足够的时间。从accuracy和loss还有codice coefficient的图可以看我们的model在validation set的表现是略好于training set。这是我们通常想要的，这可以在一定程度上体现模型的generalize的能力。当然valiadation set还不能完全当作test set，毕竟我们是通过给model看到validation set进行调试的，而test set通常是model完全看不到的。综上所述我们得到了我认为还算不错的结果。接下来我们运用训练好的模型对training data进行呈现。"
   ]
  },
  {
   "cell_type": "code",
   "execution_count": 61,
   "metadata": {
    "execution": {
     "iopub.execute_input": "2021-08-15T01:10:05.909392Z",
     "iopub.status.busy": "2021-08-15T01:10:05.909025Z",
     "iopub.status.idle": "2021-08-15T01:10:07.794882Z",
     "shell.execute_reply": "2021-08-15T01:10:07.793894Z",
     "shell.execute_reply.started": "2021-08-15T01:10:05.909359Z"
    }
   },
   "outputs": [
    {
     "name": "stdout",
     "output_type": "stream",
     "text": [
      "21/21 [==============================] - 1s 41ms/step\n"
     ]
    }
   ],
   "source": [
    "# load best model\n",
    "model = keras.models.load_model('U-Net-Best.h5', custom_objects = {'dice_coef': dice_coef})\n",
    "# make prediction on X_train\n",
    "preds_train = model.predict(X_train, verbose = 1)\n",
    "# set threshold as 0.5\n",
    "preds_train_t = (preds_train > 0.5).astype(np.uint8)"
   ]
  },
  {
   "cell_type": "markdown",
   "metadata": {},
   "source": [
    "## 8. 模型在training data预测"
   ]
  },
  {
   "cell_type": "code",
   "execution_count": 62,
   "metadata": {
    "execution": {
     "iopub.execute_input": "2021-08-15T01:10:08.085509Z",
     "iopub.status.busy": "2021-08-15T01:10:08.085184Z",
     "iopub.status.idle": "2021-08-15T01:10:08.093421Z",
     "shell.execute_reply": "2021-08-15T01:10:08.092244Z",
     "shell.execute_reply.started": "2021-08-15T01:10:08.085479Z"
    }
   },
   "outputs": [],
   "source": [
    "def show_pred():\n",
    "    \"\"\"\n",
    "    Random generate id, show X_train, y_train and prediction\n",
    "    \"\"\"\n",
    "    index = random.randint(0, len(preds_train_t))\n",
    "    imshow(X_train[index])\n",
    "    plt.title('X_train')\n",
    "    plt.show()\n",
    "    imshow(np.squeeze(y_train[index]))\n",
    "    plt.title('y_train')\n",
    "    plt.show()\n",
    "    imshow(np.squeeze(preds_train_t[index]))\n",
    "    plt.title('Prediction')\n",
    "    plt.show()"
   ]
  },
  {
   "cell_type": "code",
   "execution_count": 63,
   "metadata": {
    "execution": {
     "iopub.execute_input": "2021-08-15T01:10:08.446489Z",
     "iopub.status.busy": "2021-08-15T01:10:08.446205Z",
     "iopub.status.idle": "2021-08-15T01:10:08.940101Z",
     "shell.execute_reply": "2021-08-15T01:10:08.939070Z",
     "shell.execute_reply.started": "2021-08-15T01:10:08.446462Z"
    }
   },
   "outputs": [
    {
     "data": {
      "image/png": "[encoded data removed]",
      "text/plain": [
       "<Figure size 432x288 with 1 Axes>"
      ]
     },
     "metadata": {
      "needs_background": "light"
     },
     "output_type": "display_data"
    },
    {
     "data": {
      "image/png": "[encoded data removed]",
      "text/plain": [
       "<Figure size 432x288 with 1 Axes>"
      ]
     },
     "metadata": {
      "needs_background": "light"
     },
     "output_type": "display_data"
    },
    {
     "data": {
      "image/png": "[encoded data removed]",
      "text/plain": [
       "<Figure size 432x288 with 2 Axes>"
      ]
     },
     "metadata": {
      "needs_background": "light"
     },
     "output_type": "display_data"
    }
   ],
   "source": [
    "show_pred()"
   ]
  },
  {
   "cell_type": "markdown",
   "metadata": {},
   "source": [
    "## 9. 模型在test img上预测"
   ]
  },
  {
   "cell_type": "code",
   "execution_count": 64,
   "metadata": {
    "execution": {
     "iopub.execute_input": "2021-08-15T01:10:09.133707Z",
     "iopub.status.busy": "2021-08-15T01:10:09.133410Z",
     "iopub.status.idle": "2021-08-15T01:10:09.209381Z",
     "shell.execute_reply": "2021-08-15T01:10:09.208542Z",
     "shell.execute_reply.started": "2021-08-15T01:10:09.133679Z"
    }
   },
   "outputs": [
    {
     "data": {
      "image/png": "[encoded data removed]",
      "text/plain": [
       "<Figure size 432x288 with 1 Axes>"
      ]
     },
     "metadata": {
      "needs_background": "light"
     },
     "output_type": "display_data"
    }
   ],
   "source": [
    "# import our test img and reshape the array size\n",
    "test = imread('../input/test111/newtest.png')\n",
    "test_reshape = test.reshape(1, 256, 256, 3)\n",
    "imshow(np.squeeze(test_reshape))\n",
    "plt.title('test img')\n",
    "plt.axis('off')\n",
    "plt.show()"
   ]
  },
  {
   "cell_type": "code",
   "execution_count": 38,
   "metadata": {
    "execution": {
     "iopub.execute_input": "2021-08-15T01:01:26.336380Z",
     "iopub.status.busy": "2021-08-15T01:01:26.335977Z",
     "iopub.status.idle": "2021-08-15T01:01:26.378524Z",
     "shell.execute_reply": "2021-08-15T01:01:26.377743Z",
     "shell.execute_reply.started": "2021-08-15T01:01:26.336322Z"
    }
   },
   "outputs": [],
   "source": [
    "# make prediction\n",
    "pred = model.predict(test_reshape)\n",
    "pred_t = (pred > 0.5).astype(np.uint8)"
   ]
  },
  {
   "cell_type": "code",
   "execution_count": 39,
   "metadata": {
    "execution": {
     "iopub.execute_input": "2021-08-15T01:01:26.380548Z",
     "iopub.status.busy": "2021-08-15T01:01:26.380168Z",
     "iopub.status.idle": "2021-08-15T01:01:26.599763Z",
     "shell.execute_reply": "2021-08-15T01:01:26.598722Z",
     "shell.execute_reply.started": "2021-08-15T01:01:26.380512Z"
    }
   },
   "outputs": [
    {
     "data": {
      "image/png": "[encoded data removed]",
      "text/plain": [
       "<Figure size 432x288 with 2 Axes>"
      ]
     },
     "metadata": {
      "needs_background": "light"
     },
     "output_type": "display_data"
    }
   ],
   "source": [
    "imshow(np.squeeze(pred_t[0]))\n",
    "plt.show()"
   ]
  },
  {
   "cell_type": "markdown",
   "metadata": {},
   "source": [
    "## 9. 模型的未来以及改进\n",
    "即使U-Net已经表现的很好，但是它仍然有一些缺陷。它依赖于多层级联卷积神经网络，这些级联的网络提取感兴趣的部分进行密集预测，这导致了过度和冗余使用计算资源，因为它重复提取低级特征。<br>\n",
    "future work的一个方向是集中在对于attention-Unet的研究。attention在图像分割中是一个在training中highlight only relevent的方式。它大大的减少了计算资源的浪费，给予network更强大的power。[来源](https://towardsdatascience.com/a-detailed-explanation-of-the-attention-u-net-b371a5590831#:~:text=Attention%2C%20in%20the%20context%20of,network%20with%20better%20generalisation%20power.)<br>\n",
    "另一个方向是对于Unet++的研究。Unet++志在通过在encoder和decoder之间加入dense block和conv layers提高分割准确率。[论文链接](https://arxiv.org/abs/1807.10165)"
   ]
  },
  {
   "cell_type": "code",
   "execution_count": null,
   "metadata": {},
   "outputs": [],
   "source": []
  }
 ],
 "metadata": {
  "kernelspec": {
   "display_name": "Python 3",
   "language": "python",
   "name": "python3"
  },
  "language_info": {
   "codemirror_mode": {
    "name": "ipython",
    "version": 3
   },
   "file_extension": ".py",
   "mimetype": "text/x-python",
   "name": "python",
   "nbconvert_exporter": "python",
   "pygments_lexer": "ipython3",
   "version": "3.6.13"
  }
 },
 "nbformat": 4,
 "nbformat_minor": 4
}
