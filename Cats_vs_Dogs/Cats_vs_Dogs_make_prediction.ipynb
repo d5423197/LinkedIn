{
 "cells": [
  {
   "cell_type": "code",
   "execution_count": 23,
   "id": "placed-spectacular",
   "metadata": {},
   "outputs": [],
   "source": [
    "import cv2\n",
    "import tensorflow as tf\n",
    "from tqdm import tqdm\n",
    "import os\n",
    "import pickle\n",
    "import numpy as np\n",
    "import pandas as pd"
   ]
  },
  {
   "cell_type": "code",
   "execution_count": 2,
   "id": "homeless-launch",
   "metadata": {},
   "outputs": [],
   "source": [
    "test_dir = r'D:\\DATA\\cat\\dogs-vs-cats\\test1\\test1'\n",
    "path = r'C:\\Users\\zhong\\Desktop\\UOP\\project\\test.pickle'\n",
    "img_size = 50"
   ]
  },
  {
   "cell_type": "code",
   "execution_count": 3,
   "id": "musical-three",
   "metadata": {},
   "outputs": [],
   "source": [
    "def prepare_testset(dir_, img_size):\n",
    "    test_set = []\n",
    "    for img in os.listdir(dir_):\n",
    "        img_array = cv2.imread(os.path.join(test_dir, img), cv2.IMREAD_GRAYSCALE)\n",
    "        img_resize = cv2.resize(img_array, (img_size, img_size))\n",
    "        test_set.append(img_resize)\n",
    "    return test_set"
   ]
  },
  {
   "cell_type": "code",
   "execution_count": 4,
   "id": "crude-header",
   "metadata": {},
   "outputs": [],
   "source": [
    "if not os.path.isfile(path):\n",
    "    test_set = prepare_testset(test_dir, img_size)"
   ]
  },
  {
   "cell_type": "code",
   "execution_count": 5,
   "id": "mobile-stake",
   "metadata": {},
   "outputs": [],
   "source": [
    "if not os.path.isfile(path):\n",
    "    pickle_out = open(\"test.pickle\", 'wb')\n",
    "    pickle.dump(test_set, pickle_out)\n",
    "    pickle_out.close()"
   ]
  },
  {
   "cell_type": "code",
   "execution_count": 6,
   "id": "dynamic-florence",
   "metadata": {
    "scrolled": true
   },
   "outputs": [],
   "source": [
    "'''\n",
    "Import test dataset\n",
    "'''\n",
    "pickle_in = open('test.pickle', 'rb')\n",
    "test_set = pickle.load(pickle_in)"
   ]
  },
  {
   "cell_type": "code",
   "execution_count": 7,
   "id": "metallic-moldova",
   "metadata": {},
   "outputs": [],
   "source": [
    "X = np.array(test_set).reshape(-1, img_size, img_size, 1)\n",
    "X = X/255"
   ]
  },
  {
   "cell_type": "code",
   "execution_count": 8,
   "id": "suspended-publicity",
   "metadata": {},
   "outputs": [],
   "source": [
    "pred_model = tf.keras.models.load_model('best_model_cat_dog_128node_2Convlayer.h5')"
   ]
  },
  {
   "cell_type": "code",
   "execution_count": 16,
   "id": "persistent-jamaica",
   "metadata": {},
   "outputs": [],
   "source": [
    "y_pred = pred_model.predict_classes(X)"
   ]
  },
  {
   "cell_type": "code",
   "execution_count": 33,
   "id": "computational-austria",
   "metadata": {
    "scrolled": true
   },
   "outputs": [],
   "source": [
    "result_csv = pd.DataFrame({'id': range(1, len(y_pred) + 1), 'label':y_pred.flatten()})"
   ]
  },
  {
   "cell_type": "code",
   "execution_count": 35,
   "id": "portable-transmission",
   "metadata": {},
   "outputs": [],
   "source": [
    "result_csv.to_csv(r'C:\\Users\\zhong\\Desktop\\UOP\\project\\cat_dog_result.csv', header = True, index = False)"
   ]
  }
 ],
 "metadata": {
  "kernelspec": {
   "display_name": "Python 3",
   "language": "python",
   "name": "python3"
  },
  "language_info": {
   "codemirror_mode": {
    "name": "ipython",
    "version": 3
   },
   "file_extension": ".py",
   "mimetype": "text/x-python",
   "name": "python",
   "nbconvert_exporter": "python",
   "pygments_lexer": "ipython3",
   "version": "3.6.13"
  }
 },
 "nbformat": 4,
 "nbformat_minor": 5
}
